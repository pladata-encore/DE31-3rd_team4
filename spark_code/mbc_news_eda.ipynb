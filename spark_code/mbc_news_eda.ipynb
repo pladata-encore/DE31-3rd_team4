{
 "cells": [
  {
   "cell_type": "code",
   "execution_count": 2,
   "id": "bca25222-c966-44bf-a896-d7430568aa56",
   "metadata": {},
   "outputs": [
    {
     "name": "stderr",
     "output_type": "stream",
     "text": [
      "Setting default log level to \"WARN\".\n",
      "To adjust logging level use sc.setLogLevel(newLevel). For SparkR, use setLogLevel(newLevel).\n",
      "24/07/04 14:26:04 WARN NativeCodeLoader: Unable to load native-hadoop library for your platform... using builtin-java classes where applicable\n"
     ]
    }
   ],
   "source": [
    "import pyspark\n",
    "from pyspark.sql import SparkSession\n",
    "import pandas as pd\n",
    "conf = pyspark.SparkConf() \\\n",
    "            .setAppName(\"syl\") \\\n",
    "            .setMaster(\"spark://master:7077\") \\\n",
    "            .set(\"spark.blockManager.port\", \"10025\") \\\n",
    "            .set(\"spark.driver.blockManager.port\", \"10026\") \\\n",
    "            .set(\"spark.driver.port\", \"10027\") \\\n",
    "            .set(\"spark.cores.max\", \"2\")\n",
    "spark = SparkSession.builder.config(conf=conf).getOrCreate()"
   ]
  },
  {
   "cell_type": "code",
   "execution_count": 3,
   "id": "9b348e29-a2d6-4c38-86b4-56cceb68b9cb",
   "metadata": {},
   "outputs": [
    {
     "data": {
      "text/html": [
       "\n",
       "            <div>\n",
       "                <p><b>SparkSession - in-memory</b></p>\n",
       "                \n",
       "        <div>\n",
       "            <p><b>SparkContext</b></p>\n",
       "\n",
       "            <p><a href=\"http://master:4040\">Spark UI</a></p>\n",
       "\n",
       "            <dl>\n",
       "              <dt>Version</dt>\n",
       "                <dd><code>v3.5.1</code></dd>\n",
       "              <dt>Master</dt>\n",
       "                <dd><code>spark://master:7077</code></dd>\n",
       "              <dt>AppName</dt>\n",
       "                <dd><code>syl</code></dd>\n",
       "            </dl>\n",
       "        </div>\n",
       "        \n",
       "            </div>\n",
       "        "
      ],
      "text/plain": [
       "<pyspark.sql.session.SparkSession at 0x76e715f06200>"
      ]
     },
     "execution_count": 3,
     "metadata": {},
     "output_type": "execute_result"
    }
   ],
   "source": [
    "spark"
   ]
  },
  {
   "cell_type": "code",
   "execution_count": 36,
   "id": "95d50f80-4d02-4414-89f0-633ba1ca824d",
   "metadata": {},
   "outputs": [],
   "source": [
    "spark.stop()"
   ]
  },
  {
   "cell_type": "code",
   "execution_count": 4,
   "id": "77aab5d6-adff-4a9e-8799-3f7002505498",
   "metadata": {},
   "outputs": [
    {
     "name": "stderr",
     "output_type": "stream",
     "text": [
      "2024-07-04 14:26:16,622 WARN util.NativeCodeLoader: Unable to load native-hadoop library for your platform... using builtin-java classes where applicable\n"
     ]
    }
   ],
   "source": [
    "from pyarrow import fs\n",
    "import pyarrow as pa\n",
    "import subprocess\n",
    "import os\n",
    "\n",
    "classpath = subprocess.Popen([\"/opt/hadoop/bin/hdfs\", \"classpath\", \"--glob\"], stdout=subprocess.PIPE).communicate()[0]\n",
    "os.environ[\"CLASSPATH\"] = classpath.decode(\"utf-8\")\n",
    "hdfs = fs.HadoopFileSystem(host='192.168.0.160', port=8020, user='hadoop')"
   ]
  },
  {
   "cell_type": "code",
   "execution_count": 7,
   "id": "5feb06e5-767c-481e-abc1-2748966f86c2",
   "metadata": {},
   "outputs": [],
   "source": [
    "import datetime\n",
    "\n",
    "today_news = datetime.datetime.now().strftime(\"%Y%m%d_mbc\")"
   ]
  },
  {
   "cell_type": "code",
   "execution_count": 8,
   "id": "b8031172-da34-462f-8cc3-641f971ee605",
   "metadata": {},
   "outputs": [
    {
     "name": "stderr",
     "output_type": "stream",
     "text": [
      "                                                                                \r"
     ]
    }
   ],
   "source": [
    "spark_df = spark.read.csv(f\"hdfs:///P3T5/{today_news}.csv\", \n",
    "               header=True, sep='|')"
   ]
  },
  {
   "cell_type": "code",
   "execution_count": 9,
   "id": "dd5eb3c9-8de0-486a-9263-4c6178e0b4e7",
   "metadata": {
    "scrolled": true
   },
   "outputs": [
    {
     "name": "stdout",
     "output_type": "stream",
     "text": [
      "root\n",
      " |-- Title: string (nullable = true)\n",
      " |-- Contents: string (nullable = true)\n",
      " |-- Date: string (nullable = true)\n",
      " |-- Organizer: string (nullable = true)\n",
      "\n"
     ]
    }
   ],
   "source": [
    "spark_df.printSchema()"
   ]
  },
  {
   "cell_type": "code",
   "execution_count": 10,
   "id": "835271d2-129e-4d2c-9618-f9fbb5c312c4",
   "metadata": {},
   "outputs": [
    {
     "name": "stderr",
     "output_type": "stream",
     "text": [
      "[Stage 1:>                                                          (0 + 1) / 1]\r"
     ]
    },
    {
     "name": "stdout",
     "output_type": "stream",
     "text": [
      "+---------------------------------+---------------------------------+----------------+---------+\n",
      "|                            Title|                         Contents|            Date|Organizer|\n",
      "+---------------------------------+---------------------------------+----------------+---------+\n",
      "|   \"여당 의원 '꿀잠' 포착되자 ...| 여당 의원 꿀잠 포착되자 에효‥...|2024-07-04 12:17|      mbc|\n",
      "|신임 방통위원장 후보에 이진숙 ...|신임 방통위원장 후보에 이진숙 ...|2024-07-04 12:05|      mbc|\n",
      "|  '채상병 특검법' 무제한 토론‥...| 채상병 특검법 무제한 토론‥이 ...|2024-07-04 12:03|      mbc|\n",
      "|   \"민주, \"\"국민의힘, 필리버스...| 민주, 국민의힘, 필리버스터로 ...|2024-07-04 11:48|      mbc|\n",
      "|  \"국민의힘 당권 주자들, 총선 ...| 국민의힘 당권 주자들, 총선 책...|2024-07-04 11:39|      mbc|\n",
      "+---------------------------------+---------------------------------+----------------+---------+\n",
      "\n"
     ]
    },
    {
     "name": "stderr",
     "output_type": "stream",
     "text": [
      "                                                                                \r"
     ]
    }
   ],
   "source": [
    "spark_df.limit(5).show()"
   ]
  },
  {
   "cell_type": "markdown",
   "id": "298e0ce4-90e4-4523-9785-a228bcaefb59",
   "metadata": {},
   "source": [
    "## 특수문자 제거, \\n 제거"
   ]
  },
  {
   "cell_type": "code",
   "execution_count": 32,
   "id": "845eeb6c-8e3a-4619-bdd6-07c5c881b00c",
   "metadata": {
    "scrolled": true
   },
   "outputs": [],
   "source": [
    "from pyspark.sql import SparkSession\n",
    "from pyspark.sql.functions import regexp_replace, col\n",
    "\n",
    "first_row = spark_df.select(\"title\").first()\n",
    "#cleaned_title = regexp_replace(first_row[\"title\"], \"[^a-zA-Z0-9\\s]\", \"\")\n",
    "clenad_title = spark_df.withColumn(\"cleaned_title\", regexp_replace(col(\"title\"), \"[^a-zA-Z0-9\\s]\", \"\"))\n"
   ]
  },
  {
   "cell_type": "code",
   "execution_count": 35,
   "id": "f083472f-38f5-428c-a131-6f6b8b9a7485",
   "metadata": {},
   "outputs": [
    {
     "ename": "TypeError",
     "evalue": "'Column' object is not callable",
     "output_type": "error",
     "traceback": [
      "\u001b[0;31m---------------------------------------------------------------------------\u001b[0m",
      "\u001b[0;31mTypeError\u001b[0m                                 Traceback (most recent call last)",
      "Cell \u001b[0;32mIn[35], line 1\u001b[0m\n\u001b[0;32m----> 1\u001b[0m \u001b[43mcleaned_title\u001b[49m\u001b[38;5;241;43m.\u001b[39;49m\u001b[43mshow\u001b[49m\u001b[43m(\u001b[49m\u001b[43mtruncate\u001b[49m\u001b[38;5;241;43m=\u001b[39;49m\u001b[38;5;28;43;01mFalse\u001b[39;49;00m\u001b[43m)\u001b[49m\n",
      "\u001b[0;31mTypeError\u001b[0m: 'Column' object is not callable"
     ]
    }
   ],
   "source": [
    "cleaned_title.show(truncate=False)"
   ]
  },
  {
   "cell_type": "code",
   "execution_count": null,
   "id": "72b379a1-53d2-421b-a30d-6f0219460455",
   "metadata": {},
   "outputs": [],
   "source": []
  }
 ],
 "metadata": {
  "kernelspec": {
   "display_name": "venv",
   "language": "python",
   "name": "venv"
  },
  "language_info": {
   "codemirror_mode": {
    "name": "ipython",
    "version": 3
   },
   "file_extension": ".py",
   "mimetype": "text/x-python",
   "name": "python",
   "nbconvert_exporter": "python",
   "pygments_lexer": "ipython3",
   "version": "3.10.12"
  }
 },
 "nbformat": 4,
 "nbformat_minor": 5
}
