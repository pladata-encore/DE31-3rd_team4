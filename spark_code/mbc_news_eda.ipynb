{
 "cells": [
  {
   "cell_type": "code",
   "execution_count": 7,
   "id": "bca25222-c966-44bf-a896-d7430568aa56",
   "metadata": {},
   "outputs": [],
   "source": [
    "import pyspark\n",
    "from pyspark.sql import SparkSession\n",
    "import pandas as pd\n",
    "conf = pyspark.SparkConf() \\\n",
    "            .setAppName(\"syl\") \\\n",
    "            .setMaster(\"spark://master:7077\") \\\n",
    "            .set(\"spark.blockManager.port\", \"10025\") \\\n",
    "            .set(\"spark.driver.blockManager.port\", \"10026\") \\\n",
    "            .set(\"spark.driver.port\", \"10027\") \\\n",
    "            .set(\"spark.cores.max\", \"2\")\n",
    "spark = SparkSession.builder.config(conf=conf).getOrCreate()"
   ]
  },
  {
   "cell_type": "code",
   "execution_count": 8,
   "id": "9b348e29-a2d6-4c38-86b4-56cceb68b9cb",
   "metadata": {},
   "outputs": [
    {
     "data": {
      "text/html": [
       "\n",
       "            <div>\n",
       "                <p><b>SparkSession - in-memory</b></p>\n",
       "                \n",
       "        <div>\n",
       "            <p><b>SparkContext</b></p>\n",
       "\n",
       "            <p><a href=\"http://master:4040\">Spark UI</a></p>\n",
       "\n",
       "            <dl>\n",
       "              <dt>Version</dt>\n",
       "                <dd><code>v3.5.1</code></dd>\n",
       "              <dt>Master</dt>\n",
       "                <dd><code>spark://master:7077</code></dd>\n",
       "              <dt>AppName</dt>\n",
       "                <dd><code>syl</code></dd>\n",
       "            </dl>\n",
       "        </div>\n",
       "        \n",
       "            </div>\n",
       "        "
      ],
      "text/plain": [
       "<pyspark.sql.session.SparkSession at 0x7998501be350>"
      ]
     },
     "execution_count": 8,
     "metadata": {},
     "output_type": "execute_result"
    }
   ],
   "source": [
    "spark"
   ]
  },
  {
   "cell_type": "code",
   "execution_count": 6,
   "id": "95d50f80-4d02-4414-89f0-633ba1ca824d",
   "metadata": {},
   "outputs": [],
   "source": [
    "#spark.stop()"
   ]
  },
  {
   "cell_type": "code",
   "execution_count": 29,
   "id": "77aab5d6-adff-4a9e-8799-3f7002505498",
   "metadata": {},
   "outputs": [],
   "source": [
    "from pyarrow import fs\n",
    "import pyarrow as pa\n",
    "import subprocess\n",
    "import os\n",
    "\n",
    "classpath = subprocess.Popen([\"/opt/hadoop/bin/hdfs\", \"classpath\", \"--glob\"], stdout=subprocess.PIPE).communicate()[0]\n",
    "os.environ[\"CLASSPATH\"] = classpath.decode(\"utf-8\")\n",
    "hdfs = fs.HadoopFileSystem(host='192.168.0.160', port=8020, user='hadoop')"
   ]
  },
  {
   "cell_type": "code",
   "execution_count": 30,
   "id": "5feb06e5-767c-481e-abc1-2748966f86c2",
   "metadata": {},
   "outputs": [],
   "source": [
    "import datetime\n",
    "\n",
    "today_news = datetime.datetime.now().strftime(\"%Y%m%d_mbc\")"
   ]
  },
  {
   "cell_type": "code",
   "execution_count": 34,
   "id": "b8031172-da34-462f-8cc3-641f971ee605",
   "metadata": {},
   "outputs": [
    {
     "name": "stderr",
     "output_type": "stream",
     "text": [
      "                                                                                \r"
     ]
    }
   ],
   "source": [
    "spark_df = spark.read.csv(f\"hdfs:///P3T5/{today_news}.csv\", \n",
    "               header=True, sep=';')"
   ]
  },
  {
   "cell_type": "code",
   "execution_count": 24,
   "id": "dd5eb3c9-8de0-486a-9263-4c6178e0b4e7",
   "metadata": {
    "scrolled": true
   },
   "outputs": [
    {
     "name": "stdout",
     "output_type": "stream",
     "text": [
      "root\n",
      " |-- Title: string (nullable = true)\n",
      " |-- Contents: string (nullable = true)\n",
      " |-- Date: string (nullable = true)\n",
      " |-- Organizer: string (nullable = true)\n",
      "\n"
     ]
    }
   ],
   "source": [
    "spark_df.printSchema()"
   ]
  },
  {
   "cell_type": "code",
   "execution_count": 33,
   "id": "835271d2-129e-4d2c-9618-f9fbb5c312c4",
   "metadata": {},
   "outputs": [
    {
     "name": "stderr",
     "output_type": "stream",
     "text": [
      "[Stage 7:>                                                          (0 + 1) / 1]\r"
     ]
    },
    {
     "name": "stdout",
     "output_type": "stream",
     "text": [
      "+--------------------------------+----------------------------------+----+---------+\n",
      "|                           Title|                          Contents|Date|Organizer|\n",
      "+--------------------------------+----------------------------------+----+---------+\n",
      "| \"국민의힘 당권 주자들, 총선 ...|국민의힘 당권주자인 한동훈·원희...|NULL|     NULL|\n",
      "|  원희룡 후보는 오늘 페이스북...|                              NULL|NULL|     NULL|\n",
      "|    또 \"\"비대위원장은 못 맡았...|                              NULL|NULL|     NULL|\n",
      "|  한동훈 후보는 인천에서 기자...|                              NULL|NULL|     NULL|\n",
      "|  나경원 후보는 페이스북을 통...|                              NULL|NULL|     NULL|\n",
      "+--------------------------------+----------------------------------+----+---------+\n",
      "\n"
     ]
    },
    {
     "name": "stderr",
     "output_type": "stream",
     "text": [
      "                                                                                \r"
     ]
    }
   ],
   "source": [
    "spark_df.limit(5).show()"
   ]
  },
  {
   "cell_type": "code",
   "execution_count": null,
   "id": "dc2a7465-7ec0-44de-b8ff-7f91076ace08",
   "metadata": {},
   "outputs": [],
   "source": []
  }
 ],
 "metadata": {
  "kernelspec": {
   "display_name": "Python 3 (ipykernel)",
   "language": "python",
   "name": "python3"
  },
  "language_info": {
   "codemirror_mode": {
    "name": "ipython",
    "version": 3
   },
   "file_extension": ".py",
   "mimetype": "text/x-python",
   "name": "python",
   "nbconvert_exporter": "python",
   "pygments_lexer": "ipython3",
   "version": "3.10.12"
  }
 },
 "nbformat": 4,
 "nbformat_minor": 5
}
